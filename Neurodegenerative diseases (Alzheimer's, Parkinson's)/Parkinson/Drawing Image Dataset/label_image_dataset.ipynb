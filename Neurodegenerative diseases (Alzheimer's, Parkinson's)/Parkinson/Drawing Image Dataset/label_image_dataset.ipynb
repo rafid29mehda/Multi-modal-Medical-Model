{
  "nbformat": 4,
  "nbformat_minor": 0,
  "metadata": {
    "colab": {
      "provenance": []
    },
    "kernelspec": {
      "name": "python3",
      "display_name": "Python 3"
    },
    "language_info": {
      "name": "python"
    }
  },
  "cells": [
    {
      "cell_type": "code",
      "execution_count": 1,
      "metadata": {
        "colab": {
          "base_uri": "https://localhost:8080/"
        },
        "id": "UeXbodKr93ON",
        "outputId": "c3c726f4-3e44-4824-ee08-6e94e64668c4"
      },
      "outputs": [
        {
          "output_type": "stream",
          "name": "stdout",
          "text": [
            "Mounted at /content/drive\n"
          ]
        }
      ],
      "source": [
        "from google.colab import drive\n",
        "drive.mount('/content/drive')\n"
      ]
    },
    {
      "cell_type": "code",
      "source": [
        "import os\n",
        "import pandas as pd\n"
      ],
      "metadata": {
        "id": "B-aqDpfY-R-N"
      },
      "execution_count": 2,
      "outputs": []
    },
    {
      "cell_type": "code",
      "source": [
        "# Path to the \"Drawing\" directory on Google Drive\n",
        "base_dir = \"/content/drive/MyDrive/MLSA BUP/drawings\"\n",
        "output_data = []  # List to store image paths and labels\n"
      ],
      "metadata": {
        "id": "3aZ7xH49-SAi"
      },
      "execution_count": 3,
      "outputs": []
    },
    {
      "cell_type": "code",
      "source": [
        "# Iterate through each drawing type (spiral and wave)\n",
        "for drawing_type in ['spiral', 'wave']:\n",
        "    drawing_dir = os.path.join(base_dir, drawing_type)\n",
        "\n",
        "    # Iterate through each dataset split (training and testing)\n",
        "    for split in ['training', 'testing']:\n",
        "        split_dir = os.path.join(drawing_dir, split)\n",
        "\n",
        "        # Iterate through health condition folders\n",
        "        for condition in ['healthy', 'parkinson']:\n",
        "            condition_dir = os.path.join(split_dir, condition)\n",
        "\n",
        "            # Label 0 for healthy, 1 for parkinson\n",
        "            label = 0 if condition == 'healthy' else 1\n",
        "\n",
        "            # Iterate through each image in the condition folder\n",
        "            for image_name in os.listdir(condition_dir):\n",
        "                image_path = os.path.join(condition_dir, image_name)\n",
        "\n",
        "                # Append image path and label to the list\n",
        "                output_data.append({\n",
        "                    \"image_path\": image_path,\n",
        "                    \"label\": label,\n",
        "                    \"drawing_type\": drawing_type,\n",
        "                    \"split\": split\n",
        "                })\n"
      ],
      "metadata": {
        "id": "RyyHZxt0-SC9"
      },
      "execution_count": 4,
      "outputs": []
    },
    {
      "cell_type": "code",
      "source": [
        "# Create a DataFrame from the image paths and labels\n",
        "df = pd.DataFrame(output_data)\n",
        "\n",
        "# Display the first few rows to verify\n",
        "print(df.head())\n",
        "\n",
        "# Optionally, save this labeled dataset to a CSV file on Google Drive\n",
        "df.to_csv(\"/content/drive/MyDrive/MLSA BUP/drawing_dataset_labels.csv\", index=False)\n"
      ],
      "metadata": {
        "colab": {
          "base_uri": "https://localhost:8080/"
        },
        "id": "p8u5EBXO-SJ1",
        "outputId": "51d81050-8909-4777-b82c-a8bcc81c9fb3"
      },
      "execution_count": 5,
      "outputs": [
        {
          "output_type": "stream",
          "name": "stdout",
          "text": [
            "                                          image_path  label drawing_type  \\\n",
            "0  /content/drive/MyDrive/MLSA BUP/drawings/spira...      0       spiral   \n",
            "1  /content/drive/MyDrive/MLSA BUP/drawings/spira...      0       spiral   \n",
            "2  /content/drive/MyDrive/MLSA BUP/drawings/spira...      0       spiral   \n",
            "3  /content/drive/MyDrive/MLSA BUP/drawings/spira...      0       spiral   \n",
            "4  /content/drive/MyDrive/MLSA BUP/drawings/spira...      0       spiral   \n",
            "\n",
            "      split  \n",
            "0  training  \n",
            "1  training  \n",
            "2  training  \n",
            "3  training  \n",
            "4  training  \n"
          ]
        }
      ]
    },
    {
      "cell_type": "code",
      "source": [],
      "metadata": {
        "id": "McD0qnjA-SMA"
      },
      "execution_count": null,
      "outputs": []
    }
  ]
}